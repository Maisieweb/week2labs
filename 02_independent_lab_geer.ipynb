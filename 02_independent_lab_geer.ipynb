{
 "cells": [
  {
   "cell_type": "markdown",
   "id": "77859b9c-d237-446d-836a-6a72344e6c49",
   "metadata": {
    "editable": true,
    "slideshow": {
     "slide_type": ""
    },
    "tags": []
   },
   "source": [
    "## Maisie Geer MSBA Graduate Intro to Python Independent Lab 1"
   ]
  },
  {
   "cell_type": "markdown",
   "id": "f2a910c1-06ba-4b9c-a926-d5f6be474940",
   "metadata": {
    "editable": true,
    "slideshow": {
     "slide_type": ""
    },
    "tags": []
   },
   "source": [
    "### Welcome to my Celsius to Fahrenheit Converter"
   ]
  },
  {
   "cell_type": "code",
   "execution_count": 41,
   "id": "fd6f4dc5-0fc2-4734-8ef2-ab019d708763",
   "metadata": {
    "editable": true,
    "slideshow": {
     "slide_type": ""
    },
    "tags": []
   },
   "outputs": [],
   "source": [
    "celsius = 0.0 #create celsius as a variable"
   ]
  },
  {
   "cell_type": "code",
   "execution_count": 29,
   "id": "bce2b772-9aab-485b-8570-256692e1e4a8",
   "metadata": {
    "editable": true,
    "slideshow": {
     "slide_type": ""
    },
    "tags": []
   },
   "outputs": [],
   "source": [
    "fahrenheit = 0.0 "
   ]
  },
  {
   "cell_type": "code",
   "execution_count": 30,
   "id": "1f3c8fab-b182-4603-bb82-b0ea4aa958e1",
   "metadata": {},
   "outputs": [
    {
     "name": "stdin",
     "output_type": "stream",
     "text": [
      "Please provide a value, in Celsius, to convert:\n",
      " 37\n"
     ]
    }
   ],
   "source": [
    "text = float(input(\"Please provide a value, in Celsius, to convert:\\n\")) #use input to create a field"
   ]
  },
  {
   "cell_type": "code",
   "execution_count": 31,
   "id": "4bb3de72-3b1e-440f-aa72-bc86b8e6c099",
   "metadata": {},
   "outputs": [],
   "source": [
    "celsius = text"
   ]
  },
  {
   "cell_type": "code",
   "execution_count": 32,
   "id": "3ef0d110-61b5-4cea-b9f3-417bc81640a7",
   "metadata": {},
   "outputs": [],
   "source": [
    "fahrenheit = (9/5) * celsius + 32 #convert celsius to fahrenheit"
   ]
  },
  {
   "cell_type": "code",
   "execution_count": 33,
   "id": "e8178714-d07e-47df-8c07-0fcf72c0a20c",
   "metadata": {},
   "outputs": [
    {
     "name": "stdout",
     "output_type": "stream",
     "text": [
      "37.0 degrees celsius is 98.60000000000001 fahrenheit\n"
     ]
    }
   ],
   "source": [
    "print(f\"{celsius} degrees celsius is {fahrenheit} fahrenheit\") #print the results of the conversion"
   ]
  },
  {
   "cell_type": "code",
   "execution_count": 34,
   "id": "d203c6f3-5082-4ce4-ae9b-cf4919f0f25b",
   "metadata": {},
   "outputs": [],
   "source": [
    "int_fahrenheit = int(fahrenheit) #convert fahrenheit to an integer"
   ]
  },
  {
   "cell_type": "code",
   "execution_count": 35,
   "id": "e2b6c4ca-d8fd-4813-81e2-e10491235daa",
   "metadata": {},
   "outputs": [
    {
     "name": "stdout",
     "output_type": "stream",
     "text": [
      "98\n"
     ]
    }
   ],
   "source": [
    "print(int_fahrenheit)"
   ]
  },
  {
   "cell_type": "code",
   "execution_count": null,
   "id": "b077bb89-38a2-4137-9e8e-560059b51c04",
   "metadata": {},
   "outputs": [],
   "source": []
  }
 ],
 "metadata": {
  "kernelspec": {
   "display_name": "Python 3 (ipykernel)",
   "language": "python",
   "name": "python3"
  },
  "language_info": {
   "codemirror_mode": {
    "name": "ipython",
    "version": 3
   },
   "file_extension": ".py",
   "mimetype": "text/x-python",
   "name": "python",
   "nbconvert_exporter": "python",
   "pygments_lexer": "ipython3",
   "version": "3.12.9"
  }
 },
 "nbformat": 4,
 "nbformat_minor": 5
}
