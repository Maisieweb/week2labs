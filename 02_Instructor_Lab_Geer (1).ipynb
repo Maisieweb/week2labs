{
 "cells": [
  {
   "cell_type": "markdown",
   "id": "136947c4-e057-4395-b873-a989c9008307",
   "metadata": {
    "editable": true,
    "slideshow": {
     "slide_type": ""
    },
    "tags": []
   },
   "source": [
    "UM MSBA - BGEN 632\n",
    "\n",
    "# Week 2 Instructor-led Lab\n",
    "\n",
    "In this assignment you will create basic code showcasing the concepts you learned about in the tutorial. \n",
    "\n",
    "**Create Code cells below this Markdown cell to complete the assignment. Write and run your code. To get full points, your submitted notebook must include saved output in addition to written code.** \n",
    "\n",
    "For this assignment, you are not required to create any Markdown cells but you are encouraged to do so to improve the aesthetics and organization of your lab submission. \n",
    "\n",
    "As stated in the syllabus, you <ins>must</ins> include information about your use of online resources to complete assignments, including chatbots like ChatGPT. You can include reference information within your notebooks and/or within separate files pushed to your repo on GitHub. Failure to disclose the use of online resources is a violation of course policy.\n",
    "\n",
    "## Assigning Values\n",
    "\n",
    "For this portion of the assignment, you will create variables in your notebook. You will assign a value to each variable. Please perform the following tasks and create each variable by assigning the following values:\n",
    "\n",
    "* my_int assign it a number between 1 and 20, inclusive.\n",
    "* long_a assign it the number 6,323,527,192.\n",
    "* float_pi assign it the number 3.14159\n",
    "* my_double assign it a fractional number with 13 decimals.\n",
    "* decimal_a assign it a fractional number with 20 decimals.\n",
    "* big_griz assign it the value G (uppercase).\n",
    "* my_hello assign it a greeting to the entire class.\n",
    "* my_goodbye assign it a farewell to your class.\n",
    "\n",
    "## Single Line Comments\n",
    "\n",
    "At the end of each variable, on the same line, place a single-line comment with a short description of each variable. For example, it would look like this:\n",
    "\n",
    "```\n",
    "new_double = 38.936921934     # A double with 9 decimal places\n",
    "```\n",
    "\n",
    "## Print Output\n",
    "\n",
    "Now that you have assigned values to your variables, let's print them. Output each variable individually.\n",
    "\n",
    "## Type Conversion\n",
    "\n",
    "The last task you have for this lab involves type conversion. Create new variables with the following types, names, and values. Use an explicit type conversion.\n",
    "\n",
    "* `int` named my_new_int with a number between 1 and 20, inclusive.\n",
    "* `float` named float_b with value 3.14159.\n",
    "  \n",
    "Output both variables. \n",
    "\n",
    "---"
   ]
  },
  {
   "cell_type": "code",
   "execution_count": 3,
   "id": "d66e4214-94a0-47c8-8db0-6d044515b322",
   "metadata": {
    "editable": true,
    "slideshow": {
     "slide_type": ""
    },
    "tags": []
   },
   "outputs": [],
   "source": [
    "my_int = range(1,20) #create inconclusive value"
   ]
  },
  {
   "cell_type": "code",
   "execution_count": 4,
   "id": "de5dc165-cf13-44fb-9c1d-eee398587c0c",
   "metadata": {
    "editable": true,
    "slideshow": {
     "slide_type": ""
    },
    "tags": []
   },
   "outputs": [],
   "source": [
    "long_a = 6323527192 #store a number"
   ]
  },
  {
   "cell_type": "code",
   "execution_count": 5,
   "id": "8b5ac21e-ae12-466c-ad55-343fcec2ab02",
   "metadata": {
    "editable": true,
    "slideshow": {
     "slide_type": ""
    },
    "tags": []
   },
   "outputs": [],
   "source": [
    "float_pi = 3.14159 #pi as value"
   ]
  },
  {
   "cell_type": "code",
   "execution_count": 6,
   "id": "28699c47-350a-48bb-b4bf-43962ec44aab",
   "metadata": {
    "editable": true,
    "slideshow": {
     "slide_type": ""
    },
    "tags": []
   },
   "outputs": [],
   "source": [
    "decimal_a = round(1/3, 20) #assign a fraction"
   ]
  },
  {
   "cell_type": "code",
   "execution_count": 7,
   "id": "d50ac312-d149-4819-8d71-89d5d12e4aa2",
   "metadata": {
    "editable": true,
    "slideshow": {
     "slide_type": ""
    },
    "tags": []
   },
   "outputs": [],
   "source": [
    "big_griz = 'G' #assign a character"
   ]
  },
  {
   "cell_type": "code",
   "execution_count": 8,
   "id": "7d9139d1-6db7-4b90-8dd4-deca96dc66d4",
   "metadata": {
    "editable": true,
    "slideshow": {
     "slide_type": ""
    },
    "tags": []
   },
   "outputs": [],
   "source": [
    "my_hello = 'Hi class' #assign a greeting"
   ]
  },
  {
   "cell_type": "code",
   "execution_count": 9,
   "id": "a78f5c26-4fa3-4a74-ae77-d18654d820e5",
   "metadata": {
    "editable": true,
    "slideshow": {
     "slide_type": ""
    },
    "tags": []
   },
   "outputs": [],
   "source": [
    "my_goodbye = 'Farewell class' #assign a goodbye"
   ]
  },
  {
   "cell_type": "code",
   "execution_count": 10,
   "id": "a87febf4-e5db-4704-a290-25e245599466",
   "metadata": {
    "editable": true,
    "slideshow": {
     "slide_type": ""
    },
    "tags": []
   },
   "outputs": [
    {
     "name": "stdout",
     "output_type": "stream",
     "text": [
      "range(1, 20)\n"
     ]
    }
   ],
   "source": [
    "print(my_int) #printing my_int"
   ]
  },
  {
   "cell_type": "code",
   "execution_count": 11,
   "id": "f208c4ac-a937-4523-ba68-76196a1de2aa",
   "metadata": {
    "editable": true,
    "slideshow": {
     "slide_type": ""
    },
    "tags": []
   },
   "outputs": [
    {
     "name": "stdout",
     "output_type": "stream",
     "text": [
      "6323527192\n"
     ]
    }
   ],
   "source": [
    "print(long_a) #printing long"
   ]
  },
  {
   "cell_type": "code",
   "execution_count": 12,
   "id": "b7039eba-0f17-46b6-977e-960442a7319b",
   "metadata": {
    "editable": true,
    "slideshow": {
     "slide_type": ""
    },
    "tags": []
   },
   "outputs": [
    {
     "name": "stdout",
     "output_type": "stream",
     "text": [
      "3.14159\n"
     ]
    }
   ],
   "source": [
    "print(float_pi) #print a float"
   ]
  },
  {
   "cell_type": "code",
   "execution_count": 13,
   "id": "bfe75425-aed9-41df-9d3e-d2c6f7e234ce",
   "metadata": {
    "editable": true,
    "slideshow": {
     "slide_type": ""
    },
    "tags": []
   },
   "outputs": [
    {
     "name": "stdout",
     "output_type": "stream",
     "text": [
      "0.3333333333333333\n"
     ]
    }
   ],
   "source": [
    "print(decimal_a) #print a decimal"
   ]
  },
  {
   "cell_type": "code",
   "execution_count": 14,
   "id": "afd3f51f-fe5a-49ab-a931-960173e23483",
   "metadata": {
    "editable": true,
    "slideshow": {
     "slide_type": ""
    },
    "tags": []
   },
   "outputs": [
    {
     "name": "stdout",
     "output_type": "stream",
     "text": [
      "G\n"
     ]
    }
   ],
   "source": [
    "print(big_griz) #print a character"
   ]
  },
  {
   "cell_type": "code",
   "execution_count": 15,
   "id": "cff8a25a-3da3-45f5-a1d5-24934cea9ca7",
   "metadata": {
    "editable": true,
    "slideshow": {
     "slide_type": ""
    },
    "tags": []
   },
   "outputs": [
    {
     "name": "stdout",
     "output_type": "stream",
     "text": [
      "Hi class\n"
     ]
    }
   ],
   "source": [
    "print(my_hello) #print a greeting"
   ]
  },
  {
   "cell_type": "code",
   "execution_count": 16,
   "id": "e4a886d3-fad4-42d4-b1f7-ebd899ea0baa",
   "metadata": {
    "editable": true,
    "slideshow": {
     "slide_type": ""
    },
    "tags": []
   },
   "outputs": [
    {
     "name": "stdout",
     "output_type": "stream",
     "text": [
      "Farewell class\n"
     ]
    }
   ],
   "source": [
    "print(my_goodbye) #print a goodbye"
   ]
  },
  {
   "cell_type": "code",
   "execution_count": 17,
   "id": "7f7554ac-597f-4217-8fcd-4aef65e09ef4",
   "metadata": {
    "editable": true,
    "slideshow": {
     "slide_type": ""
    },
    "tags": []
   },
   "outputs": [],
   "source": [
    "my_new_int = range(1,20,1)"
   ]
  },
  {
   "cell_type": "code",
   "execution_count": 18,
   "id": "ceef792e-b5e3-46ea-80a9-39f669d28e9d",
   "metadata": {
    "editable": true,
    "slideshow": {
     "slide_type": ""
    },
    "tags": []
   },
   "outputs": [],
   "source": [
    "float_b = float(3.14159) #convert to a float"
   ]
  },
  {
   "cell_type": "code",
   "execution_count": null,
   "id": "2a9d05ba-b350-4a60-bf0c-268663f27faa",
   "metadata": {
    "editable": true,
    "slideshow": {
     "slide_type": ""
    },
    "tags": []
   },
   "outputs": [],
   "source": []
  }
 ],
 "metadata": {
  "kernelspec": {
   "display_name": "Python 3 (ipykernel)",
   "language": "python",
   "name": "python3"
  },
  "language_info": {
   "codemirror_mode": {
    "name": "ipython",
    "version": 3
   },
   "file_extension": ".py",
   "mimetype": "text/x-python",
   "name": "python",
   "nbconvert_exporter": "python",
   "pygments_lexer": "ipython3",
   "version": "3.12.9"
  }
 },
 "nbformat": 4,
 "nbformat_minor": 5
}
